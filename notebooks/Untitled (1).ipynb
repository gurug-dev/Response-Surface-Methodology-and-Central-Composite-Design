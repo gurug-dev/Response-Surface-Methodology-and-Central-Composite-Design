{
 "cells": [
  {
   "cell_type": "code",
   "execution_count": 2,
   "id": "ce02c5e2-51cc-487f-b4b8-f56b65772e84",
   "metadata": {},
   "outputs": [],
   "source": [
    "import numpy as np\n",
    "import scipy.stats as st\n",
    "\n",
    "import pandas as pd"
   ]
  },
  {
   "cell_type": "code",
   "execution_count": 4,
   "id": "8daca309-f6e0-416d-b0e1-5a4af996c68b",
   "metadata": {},
   "outputs": [],
   "source": [
    "res_df = pd.read_csv(\"../8_RESULTS_TMSJGGAS_2023-01-21.csv\")"
   ]
  },
  {
   "cell_type": "code",
   "execution_count": 5,
   "id": "02c9d18c-e2a1-4ff7-8bff-aee2d232d0fb",
   "metadata": {},
   "outputs": [
    {
     "name": "stderr",
     "output_type": "stream",
     "text": [
      "/var/folders/6h/jd79vvwj0kl6q1whqv2d2p900000gn/T/ipykernel_93665/1763667334.py:4: DeprecationWarning: Use of keyword argument `alpha` for method `interval` is deprecated. Use first positional argument or keyword argument `confidence` instead.\n",
      "  st.t.interval(alpha=0.95, df=len(cond1)-1,\n"
     ]
    },
    {
     "data": {
      "text/plain": [
       "(9.836658382670404, 10.207527103677883)"
      ]
     },
     "execution_count": 5,
     "metadata": {},
     "output_type": "execute_result"
    }
   ],
   "source": [
    "cond1 = res_df.loc[(res_df[\"Prev.Length\"]==75) & (res_df[\"Prev.Type\"]==\"TT\")\\\n",
    "                     & (res_df[\"Match.Score\"]==75)& (res_df[\"Tile.Size\"]==0.3),\"Browse.Time\"]\n",
    "# create 95% confidence interval\n",
    "st.t.interval(alpha=0.95, df=len(cond1)-1,\n",
    "              loc=np.mean(cond1),\n",
    "              scale=st.sem(cond1))\n"
   ]
  },
  {
   "cell_type": "code",
   "execution_count": null,
   "id": "6efb69aa-0061-473c-9e37-342b60a3b8ca",
   "metadata": {},
   "outputs": [],
   "source": []
  }
 ],
 "metadata": {
  "kernelspec": {
   "display_name": "Python 3 (ipykernel)",
   "language": "python",
   "name": "python3"
  },
  "language_info": {
   "codemirror_mode": {
    "name": "ipython",
    "version": 3
   },
   "file_extension": ".py",
   "mimetype": "text/x-python",
   "name": "python",
   "nbconvert_exporter": "python",
   "pygments_lexer": "ipython3",
   "version": "3.10.6"
  }
 },
 "nbformat": 4,
 "nbformat_minor": 5
}
