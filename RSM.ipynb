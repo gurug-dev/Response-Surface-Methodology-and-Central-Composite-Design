{
 "cells": [
  {
   "cell_type": "code",
   "execution_count": 704,
   "id": "38254a75-5deb-49f9-83bb-fb73a07669fc",
   "metadata": {},
   "outputs": [],
   "source": [
    "import os\n",
    "import pandas as pd\n",
    "import statsmodels.formula.api as smf\n",
    "import statsmodels.api as sm\n",
    "import numpy as np\n",
    "import matplotlib.pyplot as plt\n",
    "import numpy as np\n",
    "import pandas as pd\n",
    "from scipy import stats\n",
    "import seaborn as sns\n",
    "import statsmodels.stats.multitest as smsm"
   ]
  },
  {
   "cell_type": "code",
   "execution_count": 809,
   "id": "947c8bda-8073-4e39-b691-3b05a9f0d37a",
   "metadata": {},
   "outputs": [],
   "source": [
    "def convertNtoC(U, UH, UL):\n",
    "    x = (U - (UH+UL)/2.0) / ((UH-UL)/2.0)  \n",
    "    return np.round(x,3)\n",
    "\n",
    "def convertCtoN(x, UH, UL):\n",
    "    U = x*(UH-UL)/2.0 + (UH+UL)/2.0\n",
    "    return np.round(U, 2)"
   ]
  },
  {
   "cell_type": "code",
   "execution_count": 810,
   "id": "4f5380d9-3ea3-48cf-a1fc-48ff7ec2c164",
   "metadata": {},
   "outputs": [],
   "source": [
    "data = pd.read_csv(\"1_RESULTS_TMSJGGAS_2023-01-20.csv\")\n",
    "data['PQ'] = 0"
   ]
  },
  {
   "cell_type": "code",
   "execution_count": 811,
   "id": "bd0875cb-71cb-43e3-93f5-ad8b10a552de",
   "metadata": {},
   "outputs": [
    {
     "data": {
      "text/plain": [
       "(array([0.2, 0.4]), array([74, 90]), array([50, 90]))"
      ]
     },
     "execution_count": 811,
     "metadata": {},
     "output_type": "execute_result"
    }
   ],
   "source": [
    "# data = data[data[\"TS\"]!=0.2]\n",
    "data.columns = [\"TS\",\"MS\",\"PL\",\"PT\",\"Y\",'PQ']\n",
    "data['TS'].unique(), data['MS'].unique(), data['PL'].unique()"
   ]
  },
  {
   "cell_type": "code",
   "execution_count": 812,
   "id": "6d262bfc-4c29-4dd6-9f0d-524b48ae1486",
   "metadata": {},
   "outputs": [
    {
     "data": {
      "text/plain": [
       "(1600, 6)"
      ]
     },
     "execution_count": 812,
     "metadata": {},
     "output_type": "execute_result"
    }
   ],
   "source": [
    "data.shape"
   ]
  },
  {
   "cell_type": "code",
   "execution_count": 813,
   "id": "853be467-66ba-4e2b-afc0-8c85b87ee4bc",
   "metadata": {},
   "outputs": [],
   "source": [
    "MS_U = 90\n",
    "MS_L = 74\n",
    "PL_U = 90\n",
    "PL_L = 50\n",
    "TS_U = 0.4\n",
    "TS_L = 0.2"
   ]
  },
  {
   "cell_type": "code",
   "execution_count": 814,
   "id": "2788c510-fa5f-4946-a951-acbe0ee26afb",
   "metadata": {},
   "outputs": [],
   "source": [
    "def find_centroid():\n",
    "    return convertCtoN(0, MS_U,MS_L), convertCtoN(0, PL_U, PL_L), convertCtoN(0,TS_U, TS_L)"
   ]
  },
  {
   "cell_type": "code",
   "execution_count": 815,
   "id": "b9726a19-f649-443e-bb16-2d64257c6c4b",
   "metadata": {},
   "outputs": [
    {
     "data": {
      "text/plain": [
       "(82.0, 70.0, 0.3)"
      ]
     },
     "execution_count": 815,
     "metadata": {},
     "output_type": "execute_result"
    }
   ],
   "source": [
    "find_centroid()"
   ]
  },
  {
   "cell_type": "code",
   "execution_count": 816,
   "id": "29261efb-6436-4133-bd7c-ff10fc718659",
   "metadata": {},
   "outputs": [],
   "source": [
    "centroid = pd.read_csv(\"2_RESULTS_TMSJGGAS_2023-01-20.csv\")\n",
    "centroid['PQ'] = 0\n",
    "centroid.columns = [\"TS\",\"MS\",\"PL\",\"PT\",\"Y\",'PQ']\n"
   ]
  },
  {
   "cell_type": "code",
   "execution_count": 817,
   "id": "7d9ea963-1a66-426f-9586-5a0b15c29878",
   "metadata": {},
   "outputs": [],
   "source": [
    "new_point_1 = pd.read_csv(\"3_RESULTS_TMSJGGAS_2023-01-20.csv\")\n",
    "new_point_1[\"PQ\"] = 0\n",
    "new_point_1.columns = [\"TS\",\"MS\",\"PL\",\"PT\",\"Y\",'PQ']"
   ]
  },
  {
   "cell_type": "code",
   "execution_count": 818,
   "id": "6824e228-570f-410a-966e-2c1d91607d42",
   "metadata": {},
   "outputs": [],
   "source": [
    "new_point_2 = pd.read_csv(\"4_RESULTS_TMSJGGAS_2023-01-20.csv\")\n",
    "new_point_2[\"PQ\"] = 0\n",
    "new_point_2.columns = [\"TS\",\"MS\",\"PL\",\"PT\",\"Y\",'PQ']"
   ]
  },
  {
   "cell_type": "code",
   "execution_count": 819,
   "id": "761b0797-b1fb-4b7d-912d-9eda572d5112",
   "metadata": {},
   "outputs": [],
   "source": [
    "new_point_34 = pd.read_csv(\"5_RESULTS_TMSJGGAS_2023-01-20.csv\")\n",
    "new_point_34[\"PQ\"] = 0\n",
    "new_point_34.columns = [\"TS\",\"MS\",\"PL\",\"PT\",\"Y\",'PQ']"
   ]
  },
  {
   "cell_type": "code",
   "execution_count": 820,
   "id": "2d251f9d-87b5-4725-beec-9c9a3805c61e",
   "metadata": {},
   "outputs": [],
   "source": [
    "new_point_ccd2 = pd.read_csv(\"6_RESULTS_TMSJGGAS_2023-01-20.csv\")\n",
    "new_point_ccd2[\"PQ\"] = 1\n",
    "new_point_ccd2.columns = [\"TS\",\"MS\",\"PL\",\"PT\",\"Y\",'PQ']"
   ]
  },
  {
   "cell_type": "code",
   "execution_count": 784,
   "id": "ca80ae22-5377-4d6b-a047-6228287428a2",
   "metadata": {},
   "outputs": [],
   "source": [
    "new_point_ccd3 = pd.read_csv(\"7_RESULTS_TMSJGGAS_2023-01-20.csv\")\n",
    "new_point_ccd3[\"PQ\"] = 0\n",
    "new_point_ccd3.columns = [\"TS\",\"MS\",\"PL\",\"PT\",\"Y\",'PQ']"
   ]
  },
  {
   "cell_type": "code",
   "execution_count": 785,
   "id": "07f3dc69-c420-4238-838f-95474c6cb525",
   "metadata": {},
   "outputs": [],
   "source": [
    "new_point_final = pd.read_csv(\"8_RESULTS_TMSJGGAS_2023-01-21.csv\")\n",
    "new_point_final[\"PQ\"] = 0\n",
    "new_point_final.columns = [\"TS\",\"MS\",\"PL\",\"PT\",\"Y\",'PQ']"
   ]
  },
  {
   "cell_type": "code",
   "execution_count": 826,
   "id": "4a88a6ec-afd0-44aa-9310-4b98a67ae197",
   "metadata": {},
   "outputs": [],
   "source": [
    "# data = pd.concat([data,centroid,new_point_1,new_point_2,new_point_34,new_point_ccd2,new_point_ccd3,new_point_final])\n",
    "# data = pd.concat([centroid,new_point_1,new_point_2,new_point_34,new_point_ccd2,new_point_ccd3])\n",
    "data = pd.concat([centroid,new_point_1,new_point_2,new_point_34,new_point_ccd2])"
   ]
  },
  {
   "cell_type": "code",
   "execution_count": 827,
   "id": "1a266d61-d7e5-44bd-b322-6485b45a088f",
   "metadata": {},
   "outputs": [
    {
     "data": {
      "text/plain": [
       "(array([0.3]), array([82, 79, 76, 73, 85]), array([70, 65, 60, 55, 75]))"
      ]
     },
     "execution_count": 827,
     "metadata": {},
     "output_type": "execute_result"
    }
   ],
   "source": [
    "# data = data[data[\"TS\"]!=0.2]\n",
    "data.columns = [\"TS\",\"MS\",\"PL\",\"PT\",\"Y\",'PQ']\n",
    "data['TS'].unique(), data['MS'].unique(), data['PL'].unique()"
   ]
  },
  {
   "cell_type": "code",
   "execution_count": 828,
   "id": "ec6c36a5-8dc0-4cd6-bb38-4442c6aae9cd",
   "metadata": {},
   "outputs": [],
   "source": [
    "MS_U = 88\n",
    "MS_L = 70\n",
    "PL_U = 85\n",
    "PL_L = 55\n",
    "TS_U = 0.4\n",
    "TS_L = 0.2"
   ]
  },
  {
   "cell_type": "code",
   "execution_count": 829,
   "id": "7ad84b93-ef57-48ec-9ace-85dbb04f20a4",
   "metadata": {},
   "outputs": [
    {
     "data": {
      "text/plain": [
       "(79.0, 70.0, 0.3)"
      ]
     },
     "execution_count": 829,
     "metadata": {},
     "output_type": "execute_result"
    }
   ],
   "source": [
    "find_centroid()"
   ]
  },
  {
   "cell_type": "code",
   "execution_count": 830,
   "id": "2e4aa1dc-e56b-43eb-98fa-0f3d20744283",
   "metadata": {},
   "outputs": [],
   "source": [
    "# codata = pd.DataFrame()"
   ]
  },
  {
   "cell_type": "code",
   "execution_count": 831,
   "id": "4f08e744-6453-4437-aa03-c90eba381a50",
   "metadata": {},
   "outputs": [],
   "source": [
    "# # codata['x1'] = (data[\"MS\"]==90).astype(int) - (data[\"MS\"]==60).astype(int)\n",
    "# # codata['x2'] = (data[\"PL\"]==80).astype(int) - (data[\"PL\"]==50).astype(int)\n",
    "# # codata['x3'] = (data[\"TS\"]==0.2).astype(int) - (data[\"TS\"]==0.1).astype(int)\n",
    "# # codata['x4'] = (data[\"PT\"]=='TT').astype(int)\n",
    "# # codata[\"y\"] = data[\"Y\"]\n",
    "# # codata['PQ'] = 1 * (data['TS']==0.2)\n",
    "\n",
    "# codata['x1'] = convertNtoC(data['MS'], MS_U, MS_L)\n",
    "# codata['x2'] = convertNtoC(data['PL'],PL_U, PL_L)\n",
    "# codata['x3'] = convertNtoC(data['TS'], TS_U, TS_L)\n",
    "# codata['x4'] = (data[\"PT\"]=='TT').astype(int)\n",
    "# codata[\"y\"] = data[\"Y\"]\n",
    "# codata['PQ'] = 0\n",
    "\n",
    "# # codata['PQ'] = 1 * (data['TS']==convertCtoN(0,TS_L,TS_U))"
   ]
  },
  {
   "cell_type": "code",
   "execution_count": 832,
   "id": "0330c95e-5aae-4433-9632-b5a2462d8272",
   "metadata": {},
   "outputs": [],
   "source": [
    "# codata"
   ]
  },
  {
   "cell_type": "code",
   "execution_count": 833,
   "id": "26224d9a-f363-4ee6-9243-20f8e4491459",
   "metadata": {},
   "outputs": [
    {
     "data": {
      "text/html": [
       "<div>\n",
       "<style scoped>\n",
       "    .dataframe tbody tr th:only-of-type {\n",
       "        vertical-align: middle;\n",
       "    }\n",
       "\n",
       "    .dataframe tbody tr th {\n",
       "        vertical-align: top;\n",
       "    }\n",
       "\n",
       "    .dataframe thead th {\n",
       "        text-align: right;\n",
       "    }\n",
       "</style>\n",
       "<table border=\"1\" class=\"dataframe\">\n",
       "  <thead>\n",
       "    <tr style=\"text-align: right;\">\n",
       "      <th></th>\n",
       "      <th></th>\n",
       "      <th></th>\n",
       "      <th>TS</th>\n",
       "      <th>Y</th>\n",
       "      <th>PQ</th>\n",
       "    </tr>\n",
       "    <tr>\n",
       "      <th>PL</th>\n",
       "      <th>MS</th>\n",
       "      <th>PT</th>\n",
       "      <th></th>\n",
       "      <th></th>\n",
       "      <th></th>\n",
       "    </tr>\n",
       "  </thead>\n",
       "  <tbody>\n",
       "    <tr>\n",
       "      <th>55</th>\n",
       "      <th>79</th>\n",
       "      <th>TT</th>\n",
       "      <td>0.3</td>\n",
       "      <td>11.832927</td>\n",
       "      <td>1.0</td>\n",
       "    </tr>\n",
       "    <tr>\n",
       "      <th rowspan=\"2\" valign=\"top\">60</th>\n",
       "      <th>76</th>\n",
       "      <th>TT</th>\n",
       "      <td>0.3</td>\n",
       "      <td>11.606464</td>\n",
       "      <td>0.0</td>\n",
       "    </tr>\n",
       "    <tr>\n",
       "      <th>82</th>\n",
       "      <th>TT</th>\n",
       "      <td>0.3</td>\n",
       "      <td>11.414557</td>\n",
       "      <td>0.0</td>\n",
       "    </tr>\n",
       "    <tr>\n",
       "      <th rowspan=\"3\" valign=\"top\">65</th>\n",
       "      <th>73</th>\n",
       "      <th>TT</th>\n",
       "      <td>0.3</td>\n",
       "      <td>10.780183</td>\n",
       "      <td>1.0</td>\n",
       "    </tr>\n",
       "    <tr>\n",
       "      <th>79</th>\n",
       "      <th>TT</th>\n",
       "      <td>0.3</td>\n",
       "      <td>11.013506</td>\n",
       "      <td>0.0</td>\n",
       "    </tr>\n",
       "    <tr>\n",
       "      <th>85</th>\n",
       "      <th>TT</th>\n",
       "      <td>0.3</td>\n",
       "      <td>11.032854</td>\n",
       "      <td>1.0</td>\n",
       "    </tr>\n",
       "    <tr>\n",
       "      <th rowspan=\"2\" valign=\"top\">70</th>\n",
       "      <th>76</th>\n",
       "      <th>TT</th>\n",
       "      <td>0.3</td>\n",
       "      <td>10.484635</td>\n",
       "      <td>0.0</td>\n",
       "    </tr>\n",
       "    <tr>\n",
       "      <th>82</th>\n",
       "      <th>TT</th>\n",
       "      <td>0.3</td>\n",
       "      <td>10.742846</td>\n",
       "      <td>0.0</td>\n",
       "    </tr>\n",
       "    <tr>\n",
       "      <th>75</th>\n",
       "      <th>79</th>\n",
       "      <th>TT</th>\n",
       "      <td>0.3</td>\n",
       "      <td>10.238236</td>\n",
       "      <td>1.0</td>\n",
       "    </tr>\n",
       "  </tbody>\n",
       "</table>\n",
       "</div>"
      ],
      "text/plain": [
       "           TS          Y   PQ\n",
       "PL MS PT                     \n",
       "55 79 TT  0.3  11.832927  1.0\n",
       "60 76 TT  0.3  11.606464  0.0\n",
       "   82 TT  0.3  11.414557  0.0\n",
       "65 73 TT  0.3  10.780183  1.0\n",
       "   79 TT  0.3  11.013506  0.0\n",
       "   85 TT  0.3  11.032854  1.0\n",
       "70 76 TT  0.3  10.484635  0.0\n",
       "   82 TT  0.3  10.742846  0.0\n",
       "75 79 TT  0.3  10.238236  1.0"
      ]
     },
     "execution_count": 833,
     "metadata": {},
     "output_type": "execute_result"
    }
   ],
   "source": [
    "TT = data[data[\"PT\"]==\"TT\"]\n",
    "TT.groupby([\"PL\",\"MS\",\"PT\"]).mean()"
   ]
  },
  {
   "cell_type": "code",
   "execution_count": 789,
   "id": "3d7632cc-e57e-4fd7-97b9-b53364d67b5a",
   "metadata": {},
   "outputs": [
    {
     "data": {
      "text/html": [
       "<table class=\"simpletable\">\n",
       "<caption>OLS Regression Results</caption>\n",
       "<tr>\n",
       "  <th>Dep. Variable:</th>            <td>Y</td>        <th>  R-squared:         </th> <td>   0.811</td> \n",
       "</tr>\n",
       "<tr>\n",
       "  <th>Model:</th>                   <td>OLS</td>       <th>  Adj. R-squared:    </th> <td>   0.810</td> \n",
       "</tr>\n",
       "<tr>\n",
       "  <th>Method:</th>             <td>Least Squares</td>  <th>  F-statistic:       </th> <td>   965.7</td> \n",
       "</tr>\n",
       "<tr>\n",
       "  <th>Date:</th>             <td>Fri, 20 Jan 2023</td> <th>  Prob (F-statistic):</th>  <td>  0.00</td>  \n",
       "</tr>\n",
       "<tr>\n",
       "  <th>Time:</th>                 <td>18:44:08</td>     <th>  Log-Likelihood:    </th> <td> -6096.0</td> \n",
       "</tr>\n",
       "<tr>\n",
       "  <th>No. Observations:</th>      <td>  3400</td>      <th>  AIC:               </th> <td>1.222e+04</td>\n",
       "</tr>\n",
       "<tr>\n",
       "  <th>Df Residuals:</th>          <td>  3384</td>      <th>  BIC:               </th> <td>1.232e+04</td>\n",
       "</tr>\n",
       "<tr>\n",
       "  <th>Df Model:</th>              <td>    15</td>      <th>                     </th>     <td> </td>    \n",
       "</tr>\n",
       "<tr>\n",
       "  <th>Covariance Type:</th>      <td>nonrobust</td>    <th>                     </th>     <td> </td>    \n",
       "</tr>\n",
       "</table>\n",
       "<table class=\"simpletable\">\n",
       "<tr>\n",
       "          <td></td>             <th>coef</th>     <th>std err</th>      <th>t</th>      <th>P>|t|</th>  <th>[0.025</th>    <th>0.975]</th>  \n",
       "</tr>\n",
       "<tr>\n",
       "  <th>Intercept</th>         <td>   27.8541</td> <td>    6.106</td> <td>    4.561</td> <td> 0.000</td> <td>   15.881</td> <td>   39.827</td>\n",
       "</tr>\n",
       "<tr>\n",
       "  <th>PT[T.TT]</th>          <td>   -8.9291</td> <td>    8.613</td> <td>   -1.037</td> <td> 0.300</td> <td>  -25.817</td> <td>    7.959</td>\n",
       "</tr>\n",
       "<tr>\n",
       "  <th>MS</th>                <td>   -0.1365</td> <td>    0.074</td> <td>   -1.842</td> <td> 0.066</td> <td>   -0.282</td> <td>    0.009</td>\n",
       "</tr>\n",
       "<tr>\n",
       "  <th>PT[T.TT]:MS</th>       <td>    0.0334</td> <td>    0.105</td> <td>    0.319</td> <td> 0.750</td> <td>   -0.172</td> <td>    0.238</td>\n",
       "</tr>\n",
       "<tr>\n",
       "  <th>PL</th>                <td>   -0.2896</td> <td>    0.084</td> <td>   -3.452</td> <td> 0.001</td> <td>   -0.454</td> <td>   -0.125</td>\n",
       "</tr>\n",
       "<tr>\n",
       "  <th>PT[T.TT]:PL</th>       <td>    0.0003</td> <td>    0.118</td> <td>    0.003</td> <td> 0.998</td> <td>   -0.232</td> <td>    0.232</td>\n",
       "</tr>\n",
       "<tr>\n",
       "  <th>MS:PL</th>             <td>    0.0038</td> <td>    0.001</td> <td>    3.736</td> <td> 0.000</td> <td>    0.002</td> <td>    0.006</td>\n",
       "</tr>\n",
       "<tr>\n",
       "  <th>PT[T.TT]:MS:PL</th>    <td> 1.162e-05</td> <td>    0.001</td> <td>    0.008</td> <td> 0.994</td> <td>   -0.003</td> <td>    0.003</td>\n",
       "</tr>\n",
       "<tr>\n",
       "  <th>TS</th>                <td>   -4.1817</td> <td>   19.310</td> <td>   -0.217</td> <td> 0.829</td> <td>  -42.043</td> <td>   33.679</td>\n",
       "</tr>\n",
       "<tr>\n",
       "  <th>PT[T.TT]:TS</th>       <td>    6.8567</td> <td>   27.309</td> <td>    0.251</td> <td> 0.802</td> <td>  -46.687</td> <td>   60.400</td>\n",
       "</tr>\n",
       "<tr>\n",
       "  <th>MS:TS</th>             <td>    0.0275</td> <td>    0.234</td> <td>    0.117</td> <td> 0.907</td> <td>   -0.432</td> <td>    0.487</td>\n",
       "</tr>\n",
       "<tr>\n",
       "  <th>PT[T.TT]:MS:TS</th>    <td>   -0.0485</td> <td>    0.331</td> <td>   -0.146</td> <td> 0.884</td> <td>   -0.698</td> <td>    0.601</td>\n",
       "</tr>\n",
       "<tr>\n",
       "  <th>PL:TS</th>             <td>    0.1128</td> <td>    0.265</td> <td>    0.425</td> <td> 0.671</td> <td>   -0.407</td> <td>    0.633</td>\n",
       "</tr>\n",
       "<tr>\n",
       "  <th>PT[T.TT]:PL:TS</th>    <td>   -0.1229</td> <td>    0.375</td> <td>   -0.328</td> <td> 0.743</td> <td>   -0.858</td> <td>    0.613</td>\n",
       "</tr>\n",
       "<tr>\n",
       "  <th>MS:PL:TS</th>          <td>   -0.0011</td> <td>    0.003</td> <td>   -0.338</td> <td> 0.735</td> <td>   -0.007</td> <td>    0.005</td>\n",
       "</tr>\n",
       "<tr>\n",
       "  <th>PT[T.TT]:MS:PL:TS</th> <td>    0.0010</td> <td>    0.005</td> <td>    0.229</td> <td> 0.819</td> <td>   -0.008</td> <td>    0.010</td>\n",
       "</tr>\n",
       "</table>\n",
       "<table class=\"simpletable\">\n",
       "<tr>\n",
       "  <th>Omnibus:</th>       <td> 7.892</td> <th>  Durbin-Watson:     </th> <td>   1.472</td>\n",
       "</tr>\n",
       "<tr>\n",
       "  <th>Prob(Omnibus):</th> <td> 0.019</td> <th>  Jarque-Bera (JB):  </th> <td>   7.526</td>\n",
       "</tr>\n",
       "<tr>\n",
       "  <th>Skew:</th>          <td>-0.086</td> <th>  Prob(JB):          </th> <td>  0.0232</td>\n",
       "</tr>\n",
       "<tr>\n",
       "  <th>Kurtosis:</th>      <td> 2.846</td> <th>  Cond. No.          </th> <td>9.97e+06</td>\n",
       "</tr>\n",
       "</table><br/><br/>Notes:<br/>[1] Standard Errors assume that the covariance matrix of the errors is correctly specified.<br/>[2] The condition number is large, 9.97e+06. This might indicate that there are<br/>strong multicollinearity or other numerical problems."
      ],
      "text/plain": [
       "<class 'statsmodels.iolib.summary.Summary'>\n",
       "\"\"\"\n",
       "                            OLS Regression Results                            \n",
       "==============================================================================\n",
       "Dep. Variable:                      Y   R-squared:                       0.811\n",
       "Model:                            OLS   Adj. R-squared:                  0.810\n",
       "Method:                 Least Squares   F-statistic:                     965.7\n",
       "Date:                Fri, 20 Jan 2023   Prob (F-statistic):               0.00\n",
       "Time:                        18:44:08   Log-Likelihood:                -6096.0\n",
       "No. Observations:                3400   AIC:                         1.222e+04\n",
       "Df Residuals:                    3384   BIC:                         1.232e+04\n",
       "Df Model:                          15                                         \n",
       "Covariance Type:            nonrobust                                         \n",
       "=====================================================================================\n",
       "                        coef    std err          t      P>|t|      [0.025      0.975]\n",
       "-------------------------------------------------------------------------------------\n",
       "Intercept            27.8541      6.106      4.561      0.000      15.881      39.827\n",
       "PT[T.TT]             -8.9291      8.613     -1.037      0.300     -25.817       7.959\n",
       "MS                   -0.1365      0.074     -1.842      0.066      -0.282       0.009\n",
       "PT[T.TT]:MS           0.0334      0.105      0.319      0.750      -0.172       0.238\n",
       "PL                   -0.2896      0.084     -3.452      0.001      -0.454      -0.125\n",
       "PT[T.TT]:PL           0.0003      0.118      0.003      0.998      -0.232       0.232\n",
       "MS:PL                 0.0038      0.001      3.736      0.000       0.002       0.006\n",
       "PT[T.TT]:MS:PL     1.162e-05      0.001      0.008      0.994      -0.003       0.003\n",
       "TS                   -4.1817     19.310     -0.217      0.829     -42.043      33.679\n",
       "PT[T.TT]:TS           6.8567     27.309      0.251      0.802     -46.687      60.400\n",
       "MS:TS                 0.0275      0.234      0.117      0.907      -0.432       0.487\n",
       "PT[T.TT]:MS:TS       -0.0485      0.331     -0.146      0.884      -0.698       0.601\n",
       "PL:TS                 0.1128      0.265      0.425      0.671      -0.407       0.633\n",
       "PT[T.TT]:PL:TS       -0.1229      0.375     -0.328      0.743      -0.858       0.613\n",
       "MS:PL:TS             -0.0011      0.003     -0.338      0.735      -0.007       0.005\n",
       "PT[T.TT]:MS:PL:TS     0.0010      0.005      0.229      0.819      -0.008       0.010\n",
       "==============================================================================\n",
       "Omnibus:                        7.892   Durbin-Watson:                   1.472\n",
       "Prob(Omnibus):                  0.019   Jarque-Bera (JB):                7.526\n",
       "Skew:                          -0.086   Prob(JB):                       0.0232\n",
       "Kurtosis:                       2.846   Cond. No.                     9.97e+06\n",
       "==============================================================================\n",
       "\n",
       "Notes:\n",
       "[1] Standard Errors assume that the covariance matrix of the errors is correctly specified.\n",
       "[2] The condition number is large, 9.97e+06. This might indicate that there are\n",
       "strong multicollinearity or other numerical problems.\n",
       "\"\"\""
      ]
     },
     "execution_count": 789,
     "metadata": {},
     "output_type": "execute_result"
    }
   ],
   "source": [
    "modelfull = smf.ols('Y ~ PT * MS * PL * TS', data = data).fit()\n",
    "modelfull.summary()"
   ]
  },
  {
   "cell_type": "code",
   "execution_count": 794,
   "id": "aa17e3e1-e0d1-485e-bf40-e38c5595ed86",
   "metadata": {},
   "outputs": [
    {
     "data": {
      "text/html": [
       "<table class=\"simpletable\">\n",
       "<caption>OLS Regression Results</caption>\n",
       "<tr>\n",
       "  <th>Dep. Variable:</th>            <td>Y</td>        <th>  R-squared:         </th> <td>   0.809</td> \n",
       "</tr>\n",
       "<tr>\n",
       "  <th>Model:</th>                   <td>OLS</td>       <th>  Adj. R-squared:    </th> <td>   0.808</td> \n",
       "</tr>\n",
       "<tr>\n",
       "  <th>Method:</th>             <td>Least Squares</td>  <th>  F-statistic:       </th> <td>   3584.</td> \n",
       "</tr>\n",
       "<tr>\n",
       "  <th>Date:</th>             <td>Fri, 20 Jan 2023</td> <th>  Prob (F-statistic):</th>  <td>  0.00</td>  \n",
       "</tr>\n",
       "<tr>\n",
       "  <th>Time:</th>                 <td>18:45:15</td>     <th>  Log-Likelihood:    </th> <td> -6114.6</td> \n",
       "</tr>\n",
       "<tr>\n",
       "  <th>No. Observations:</th>      <td>  3400</td>      <th>  AIC:               </th> <td>1.224e+04</td>\n",
       "</tr>\n",
       "<tr>\n",
       "  <th>Df Residuals:</th>          <td>  3395</td>      <th>  BIC:               </th> <td>1.227e+04</td>\n",
       "</tr>\n",
       "<tr>\n",
       "  <th>Df Model:</th>              <td>     4</td>      <th>                     </th>     <td> </td>    \n",
       "</tr>\n",
       "<tr>\n",
       "  <th>Covariance Type:</th>      <td>nonrobust</td>    <th>                     </th>     <td> </td>    \n",
       "</tr>\n",
       "</table>\n",
       "<table class=\"simpletable\">\n",
       "<tr>\n",
       "      <td></td>         <th>coef</th>     <th>std err</th>      <th>t</th>      <th>P>|t|</th>  <th>[0.025</th>    <th>0.975]</th>  \n",
       "</tr>\n",
       "<tr>\n",
       "  <th>Intercept</th> <td>   26.1449</td> <td>    1.331</td> <td>   19.639</td> <td> 0.000</td> <td>   23.535</td> <td>   28.755</td>\n",
       "</tr>\n",
       "<tr>\n",
       "  <th>PT[T.TT]</th>  <td>   -6.0668</td> <td>    0.058</td> <td> -105.173</td> <td> 0.000</td> <td>   -6.180</td> <td>   -5.954</td>\n",
       "</tr>\n",
       "<tr>\n",
       "  <th>MS</th>        <td>   -0.1177</td> <td>    0.016</td> <td>   -7.251</td> <td> 0.000</td> <td>   -0.150</td> <td>   -0.086</td>\n",
       "</tr>\n",
       "<tr>\n",
       "  <th>PL</th>        <td>   -0.2792</td> <td>    0.018</td> <td>  -15.223</td> <td> 0.000</td> <td>   -0.315</td> <td>   -0.243</td>\n",
       "</tr>\n",
       "<tr>\n",
       "  <th>MS:PL</th>     <td>    0.0037</td> <td>    0.000</td> <td>   16.483</td> <td> 0.000</td> <td>    0.003</td> <td>    0.004</td>\n",
       "</tr>\n",
       "</table>\n",
       "<table class=\"simpletable\">\n",
       "<tr>\n",
       "  <th>Omnibus:</th>       <td>14.117</td> <th>  Durbin-Watson:     </th> <td>   1.448</td>\n",
       "</tr>\n",
       "<tr>\n",
       "  <th>Prob(Omnibus):</th> <td> 0.001</td> <th>  Jarque-Bera (JB):  </th> <td>  12.570</td>\n",
       "</tr>\n",
       "<tr>\n",
       "  <th>Skew:</th>          <td>-0.100</td> <th>  Prob(JB):          </th> <td> 0.00186</td>\n",
       "</tr>\n",
       "<tr>\n",
       "  <th>Kurtosis:</th>      <td> 2.779</td> <th>  Cond. No.          </th> <td>3.08e+05</td>\n",
       "</tr>\n",
       "</table><br/><br/>Notes:<br/>[1] Standard Errors assume that the covariance matrix of the errors is correctly specified.<br/>[2] The condition number is large, 3.08e+05. This might indicate that there are<br/>strong multicollinearity or other numerical problems."
      ],
      "text/plain": [
       "<class 'statsmodels.iolib.summary.Summary'>\n",
       "\"\"\"\n",
       "                            OLS Regression Results                            \n",
       "==============================================================================\n",
       "Dep. Variable:                      Y   R-squared:                       0.809\n",
       "Model:                            OLS   Adj. R-squared:                  0.808\n",
       "Method:                 Least Squares   F-statistic:                     3584.\n",
       "Date:                Fri, 20 Jan 2023   Prob (F-statistic):               0.00\n",
       "Time:                        18:45:15   Log-Likelihood:                -6114.6\n",
       "No. Observations:                3400   AIC:                         1.224e+04\n",
       "Df Residuals:                    3395   BIC:                         1.227e+04\n",
       "Df Model:                           4                                         \n",
       "Covariance Type:            nonrobust                                         \n",
       "==============================================================================\n",
       "                 coef    std err          t      P>|t|      [0.025      0.975]\n",
       "------------------------------------------------------------------------------\n",
       "Intercept     26.1449      1.331     19.639      0.000      23.535      28.755\n",
       "PT[T.TT]      -6.0668      0.058   -105.173      0.000      -6.180      -5.954\n",
       "MS            -0.1177      0.016     -7.251      0.000      -0.150      -0.086\n",
       "PL            -0.2792      0.018    -15.223      0.000      -0.315      -0.243\n",
       "MS:PL          0.0037      0.000     16.483      0.000       0.003       0.004\n",
       "==============================================================================\n",
       "Omnibus:                       14.117   Durbin-Watson:                   1.448\n",
       "Prob(Omnibus):                  0.001   Jarque-Bera (JB):               12.570\n",
       "Skew:                          -0.100   Prob(JB):                      0.00186\n",
       "Kurtosis:                       2.779   Cond. No.                     3.08e+05\n",
       "==============================================================================\n",
       "\n",
       "Notes:\n",
       "[1] Standard Errors assume that the covariance matrix of the errors is correctly specified.\n",
       "[2] The condition number is large, 3.08e+05. This might indicate that there are\n",
       "strong multicollinearity or other numerical problems.\n",
       "\"\"\""
      ]
     },
     "execution_count": 794,
     "metadata": {},
     "output_type": "execute_result"
    }
   ],
   "source": [
    "model = smf.ols('Y ~ MS * PL + PT', data = data).fit()\n",
    "model.summary()"
   ]
  },
  {
   "cell_type": "code",
   "execution_count": 795,
   "id": "e6b4febe-eedf-4f18-a253-883a694e36c0",
   "metadata": {},
   "outputs": [
    {
     "data": {
      "text/html": [
       "<div>\n",
       "<style scoped>\n",
       "    .dataframe tbody tr th:only-of-type {\n",
       "        vertical-align: middle;\n",
       "    }\n",
       "\n",
       "    .dataframe tbody tr th {\n",
       "        vertical-align: top;\n",
       "    }\n",
       "\n",
       "    .dataframe thead th {\n",
       "        text-align: right;\n",
       "    }\n",
       "</style>\n",
       "<table border=\"1\" class=\"dataframe\">\n",
       "  <thead>\n",
       "    <tr style=\"text-align: right;\">\n",
       "      <th></th>\n",
       "      <th>df_resid</th>\n",
       "      <th>ssr</th>\n",
       "      <th>df_diff</th>\n",
       "      <th>ss_diff</th>\n",
       "      <th>F</th>\n",
       "      <th>Pr(&gt;F)</th>\n",
       "    </tr>\n",
       "  </thead>\n",
       "  <tbody>\n",
       "    <tr>\n",
       "      <th>0</th>\n",
       "      <td>3395.0</td>\n",
       "      <td>7262.464087</td>\n",
       "      <td>0.0</td>\n",
       "      <td>NaN</td>\n",
       "      <td>NaN</td>\n",
       "      <td>NaN</td>\n",
       "    </tr>\n",
       "    <tr>\n",
       "      <th>1</th>\n",
       "      <td>3384.0</td>\n",
       "      <td>7183.264560</td>\n",
       "      <td>11.0</td>\n",
       "      <td>79.199527</td>\n",
       "      <td>3.391864</td>\n",
       "      <td>0.000109</td>\n",
       "    </tr>\n",
       "  </tbody>\n",
       "</table>\n",
       "</div>"
      ],
      "text/plain": [
       "   df_resid          ssr  df_diff    ss_diff         F    Pr(>F)\n",
       "0    3395.0  7262.464087      0.0        NaN       NaN       NaN\n",
       "1    3384.0  7183.264560     11.0  79.199527  3.391864  0.000109"
      ]
     },
     "execution_count": 795,
     "metadata": {},
     "output_type": "execute_result"
    }
   ],
   "source": [
    "sm.stats.anova_lm(model, modelfull)"
   ]
  },
  {
   "cell_type": "code",
   "execution_count": 850,
   "id": "f48c44a9-3387-4d2f-9920-ce7522b875d4",
   "metadata": {},
   "outputs": [],
   "source": [
    "TT = data[data[\"PT\"]=='TT']"
   ]
  },
  {
   "cell_type": "code",
   "execution_count": 797,
   "id": "7dc14b7b-755b-4483-b33f-63c0782290d3",
   "metadata": {},
   "outputs": [
    {
     "data": {
      "text/html": [
       "<table class=\"simpletable\">\n",
       "<caption>OLS Regression Results</caption>\n",
       "<tr>\n",
       "  <th>Dep. Variable:</th>            <td>Y</td>        <th>  R-squared:         </th> <td>   0.329</td> \n",
       "</tr>\n",
       "<tr>\n",
       "  <th>Model:</th>                   <td>OLS</td>       <th>  Adj. R-squared:    </th> <td>   0.328</td> \n",
       "</tr>\n",
       "<tr>\n",
       "  <th>Method:</th>             <td>Least Squares</td>  <th>  F-statistic:       </th> <td>   306.4</td> \n",
       "</tr>\n",
       "<tr>\n",
       "  <th>Date:</th>             <td>Fri, 20 Jan 2023</td> <th>  Prob (F-statistic):</th> <td>1.40e-214</td>\n",
       "</tr>\n",
       "<tr>\n",
       "  <th>Time:</th>                 <td>18:45:31</td>     <th>  Log-Likelihood:    </th> <td> -4486.8</td> \n",
       "</tr>\n",
       "<tr>\n",
       "  <th>No. Observations:</th>      <td>  2500</td>      <th>  AIC:               </th> <td>   8984.</td> \n",
       "</tr>\n",
       "<tr>\n",
       "  <th>Df Residuals:</th>          <td>  2495</td>      <th>  BIC:               </th> <td>   9013.</td> \n",
       "</tr>\n",
       "<tr>\n",
       "  <th>Df Model:</th>              <td>     4</td>      <th>                     </th>     <td> </td>    \n",
       "</tr>\n",
       "<tr>\n",
       "  <th>Covariance Type:</th>      <td>nonrobust</td>    <th>                     </th>     <td> </td>    \n",
       "</tr>\n",
       "</table>\n",
       "<table class=\"simpletable\">\n",
       "<tr>\n",
       "      <td></td>         <th>coef</th>     <th>std err</th>      <th>t</th>      <th>P>|t|</th>  <th>[0.025</th>    <th>0.975]</th>  \n",
       "</tr>\n",
       "<tr>\n",
       "  <th>Intercept</th> <td>   21.5178</td> <td>    1.838</td> <td>   11.705</td> <td> 0.000</td> <td>   17.913</td> <td>   25.123</td>\n",
       "</tr>\n",
       "<tr>\n",
       "  <th>PL</th>        <td>   -0.3130</td> <td>    0.025</td> <td>  -12.326</td> <td> 0.000</td> <td>   -0.363</td> <td>   -0.263</td>\n",
       "</tr>\n",
       "<tr>\n",
       "  <th>MS</th>        <td>   -0.1264</td> <td>    0.023</td> <td>   -5.617</td> <td> 0.000</td> <td>   -0.171</td> <td>   -0.082</td>\n",
       "</tr>\n",
       "<tr>\n",
       "  <th>PL:MS</th>     <td>    0.0040</td> <td>    0.000</td> <td>   12.875</td> <td> 0.000</td> <td>    0.003</td> <td>    0.005</td>\n",
       "</tr>\n",
       "<tr>\n",
       "  <th>PQ</th>        <td>   -0.7813</td> <td>    0.081</td> <td>   -9.617</td> <td> 0.000</td> <td>   -0.941</td> <td>   -0.622</td>\n",
       "</tr>\n",
       "</table>\n",
       "<table class=\"simpletable\">\n",
       "<tr>\n",
       "  <th>Omnibus:</th>       <td>31.922</td> <th>  Durbin-Watson:     </th> <td>   1.279</td>\n",
       "</tr>\n",
       "<tr>\n",
       "  <th>Prob(Omnibus):</th> <td> 0.000</td> <th>  Jarque-Bera (JB):  </th> <td>  21.693</td>\n",
       "</tr>\n",
       "<tr>\n",
       "  <th>Skew:</th>          <td> 0.099</td> <th>  Prob(JB):          </th> <td>1.95e-05</td>\n",
       "</tr>\n",
       "<tr>\n",
       "  <th>Kurtosis:</th>      <td> 2.589</td> <th>  Cond. No.          </th> <td>3.61e+05</td>\n",
       "</tr>\n",
       "</table><br/><br/>Notes:<br/>[1] Standard Errors assume that the covariance matrix of the errors is correctly specified.<br/>[2] The condition number is large, 3.61e+05. This might indicate that there are<br/>strong multicollinearity or other numerical problems."
      ],
      "text/plain": [
       "<class 'statsmodels.iolib.summary.Summary'>\n",
       "\"\"\"\n",
       "                            OLS Regression Results                            \n",
       "==============================================================================\n",
       "Dep. Variable:                      Y   R-squared:                       0.329\n",
       "Model:                            OLS   Adj. R-squared:                  0.328\n",
       "Method:                 Least Squares   F-statistic:                     306.4\n",
       "Date:                Fri, 20 Jan 2023   Prob (F-statistic):          1.40e-214\n",
       "Time:                        18:45:31   Log-Likelihood:                -4486.8\n",
       "No. Observations:                2500   AIC:                             8984.\n",
       "Df Residuals:                    2495   BIC:                             9013.\n",
       "Df Model:                           4                                         \n",
       "Covariance Type:            nonrobust                                         \n",
       "==============================================================================\n",
       "                 coef    std err          t      P>|t|      [0.025      0.975]\n",
       "------------------------------------------------------------------------------\n",
       "Intercept     21.5178      1.838     11.705      0.000      17.913      25.123\n",
       "PL            -0.3130      0.025    -12.326      0.000      -0.363      -0.263\n",
       "MS            -0.1264      0.023     -5.617      0.000      -0.171      -0.082\n",
       "PL:MS          0.0040      0.000     12.875      0.000       0.003       0.005\n",
       "PQ            -0.7813      0.081     -9.617      0.000      -0.941      -0.622\n",
       "==============================================================================\n",
       "Omnibus:                       31.922   Durbin-Watson:                   1.279\n",
       "Prob(Omnibus):                  0.000   Jarque-Bera (JB):               21.693\n",
       "Skew:                           0.099   Prob(JB):                     1.95e-05\n",
       "Kurtosis:                       2.589   Cond. No.                     3.61e+05\n",
       "==============================================================================\n",
       "\n",
       "Notes:\n",
       "[1] Standard Errors assume that the covariance matrix of the errors is correctly specified.\n",
       "[2] The condition number is large, 3.61e+05. This might indicate that there are\n",
       "strong multicollinearity or other numerical problems.\n",
       "\"\"\""
      ]
     },
     "execution_count": 797,
     "metadata": {},
     "output_type": "execute_result"
    }
   ],
   "source": [
    "model_full_tt = smf.ols('Y ~ PL * MS + PQ', data = TT).fit()\n",
    "# model_red_tt = smf.ols('y ~ x1 *x2', data = TT).fit()\n",
    "model_full_tt.summary()\n",
    "# sm.stats.anova_lm(model_red_tt, model_full_tt)"
   ]
  },
  {
   "cell_type": "code",
   "execution_count": 798,
   "id": "44861010-0473-49fd-8a9f-54dfb6cf1f70",
   "metadata": {},
   "outputs": [
    {
     "data": {
      "text/html": [
       "<table class=\"simpletable\">\n",
       "<caption>OLS Regression Results</caption>\n",
       "<tr>\n",
       "  <th>Dep. Variable:</th>            <td>Y</td>        <th>  R-squared:         </th> <td>   0.264</td> \n",
       "</tr>\n",
       "<tr>\n",
       "  <th>Model:</th>                   <td>OLS</td>       <th>  Adj. R-squared:    </th> <td>   0.264</td> \n",
       "</tr>\n",
       "<tr>\n",
       "  <th>Method:</th>             <td>Least Squares</td>  <th>  F-statistic:       </th> <td>   448.3</td> \n",
       "</tr>\n",
       "<tr>\n",
       "  <th>Date:</th>             <td>Fri, 20 Jan 2023</td> <th>  Prob (F-statistic):</th> <td>4.47e-167</td>\n",
       "</tr>\n",
       "<tr>\n",
       "  <th>Time:</th>                 <td>18:45:33</td>     <th>  Log-Likelihood:    </th> <td> -4602.8</td> \n",
       "</tr>\n",
       "<tr>\n",
       "  <th>No. Observations:</th>      <td>  2500</td>      <th>  AIC:               </th> <td>   9212.</td> \n",
       "</tr>\n",
       "<tr>\n",
       "  <th>Df Residuals:</th>          <td>  2497</td>      <th>  BIC:               </th> <td>   9229.</td> \n",
       "</tr>\n",
       "<tr>\n",
       "  <th>Df Model:</th>              <td>     2</td>      <th>                     </th>     <td> </td>    \n",
       "</tr>\n",
       "<tr>\n",
       "  <th>Covariance Type:</th>      <td>nonrobust</td>    <th>                     </th>     <td> </td>    \n",
       "</tr>\n",
       "</table>\n",
       "<table class=\"simpletable\">\n",
       "<tr>\n",
       "      <td></td>         <th>coef</th>     <th>std err</th>      <th>t</th>      <th>P>|t|</th>  <th>[0.025</th>    <th>0.975]</th>  \n",
       "</tr>\n",
       "<tr>\n",
       "  <th>Intercept</th> <td>   -2.0004</td> <td>    0.465</td> <td>   -4.299</td> <td> 0.000</td> <td>   -2.913</td> <td>   -1.088</td>\n",
       "</tr>\n",
       "<tr>\n",
       "  <th>PL</th>        <td>    0.0164</td> <td>    0.002</td> <td>    7.001</td> <td> 0.000</td> <td>    0.012</td> <td>    0.021</td>\n",
       "</tr>\n",
       "<tr>\n",
       "  <th>MS</th>        <td>    0.1580</td> <td>    0.005</td> <td>   29.305</td> <td> 0.000</td> <td>    0.147</td> <td>    0.169</td>\n",
       "</tr>\n",
       "</table>\n",
       "<table class=\"simpletable\">\n",
       "<tr>\n",
       "  <th>Omnibus:</th>       <td>43.368</td> <th>  Durbin-Watson:     </th> <td>   1.271</td>\n",
       "</tr>\n",
       "<tr>\n",
       "  <th>Prob(Omnibus):</th> <td> 0.000</td> <th>  Jarque-Bera (JB):  </th> <td>  30.619</td>\n",
       "</tr>\n",
       "<tr>\n",
       "  <th>Skew:</th>          <td> 0.160</td> <th>  Prob(JB):          </th> <td>2.25e-07</td>\n",
       "</tr>\n",
       "<tr>\n",
       "  <th>Kurtosis:</th>      <td> 2.562</td> <th>  Cond. No.          </th> <td>1.63e+03</td>\n",
       "</tr>\n",
       "</table><br/><br/>Notes:<br/>[1] Standard Errors assume that the covariance matrix of the errors is correctly specified.<br/>[2] The condition number is large, 1.63e+03. This might indicate that there are<br/>strong multicollinearity or other numerical problems."
      ],
      "text/plain": [
       "<class 'statsmodels.iolib.summary.Summary'>\n",
       "\"\"\"\n",
       "                            OLS Regression Results                            \n",
       "==============================================================================\n",
       "Dep. Variable:                      Y   R-squared:                       0.264\n",
       "Model:                            OLS   Adj. R-squared:                  0.264\n",
       "Method:                 Least Squares   F-statistic:                     448.3\n",
       "Date:                Fri, 20 Jan 2023   Prob (F-statistic):          4.47e-167\n",
       "Time:                        18:45:33   Log-Likelihood:                -4602.8\n",
       "No. Observations:                2500   AIC:                             9212.\n",
       "Df Residuals:                    2497   BIC:                             9229.\n",
       "Df Model:                           2                                         \n",
       "Covariance Type:            nonrobust                                         \n",
       "==============================================================================\n",
       "                 coef    std err          t      P>|t|      [0.025      0.975]\n",
       "------------------------------------------------------------------------------\n",
       "Intercept     -2.0004      0.465     -4.299      0.000      -2.913      -1.088\n",
       "PL             0.0164      0.002      7.001      0.000       0.012       0.021\n",
       "MS             0.1580      0.005     29.305      0.000       0.147       0.169\n",
       "==============================================================================\n",
       "Omnibus:                       43.368   Durbin-Watson:                   1.271\n",
       "Prob(Omnibus):                  0.000   Jarque-Bera (JB):               30.619\n",
       "Skew:                           0.160   Prob(JB):                     2.25e-07\n",
       "Kurtosis:                       2.562   Cond. No.                     1.63e+03\n",
       "==============================================================================\n",
       "\n",
       "Notes:\n",
       "[1] Standard Errors assume that the covariance matrix of the errors is correctly specified.\n",
       "[2] The condition number is large, 1.63e+03. This might indicate that there are\n",
       "strong multicollinearity or other numerical problems.\n",
       "\"\"\""
      ]
     },
     "execution_count": 798,
     "metadata": {},
     "output_type": "execute_result"
    }
   ],
   "source": [
    "model_grad = smf.ols('Y ~ PL + MS', data = TT).fit()\n",
    "model_grad.summary()"
   ]
  },
  {
   "cell_type": "code",
   "execution_count": 799,
   "id": "d3e59d19-a5df-4165-a6c3-74b94c007c07",
   "metadata": {},
   "outputs": [
    {
     "data": {
      "text/plain": [
       "array([0.01636591, 0.1579954 ])"
      ]
     },
     "execution_count": 799,
     "metadata": {},
     "output_type": "execute_result"
    }
   ],
   "source": [
    "model_grad.params.values[1:]"
   ]
  },
  {
   "cell_type": "code",
   "execution_count": 800,
   "id": "949e3234-a4ef-42d9-925e-0e2e4b499f00",
   "metadata": {},
   "outputs": [],
   "source": [
    "def grad_desc(model, lam , iter_, begin):\n",
    "    params = model.params[1:]\n",
    "    if begin is None:\n",
    "        begin = [0]*len(params)\n",
    "    nxt = begin\n",
    "    while(iter_):\n",
    "        nxt = nxt - lam*params\n",
    "        eta = model.params[0] + nxt[0]*model.params[1] + nxt[1]*model.params[2]\n",
    "        print(nxt, eta)\n",
    "        print(convertCtoN(nxt[0],MS_U,MS_L),convertCtoN(nxt[1],PL_U,PL_L))\n",
    "        iter_-=1\n",
    "    "
   ]
  },
  {
   "cell_type": "code",
   "execution_count": 761,
   "id": "5cc4ff74-d9be-433d-a05c-96c01a1d07d7",
   "metadata": {},
   "outputs": [
    {
     "data": {
      "text/plain": [
       "(79.0, 70.0)"
      ]
     },
     "execution_count": 761,
     "metadata": {},
     "output_type": "execute_result"
    }
   ],
   "source": [
    "convertCtoN(0,UH=MS_U, UL=MS_L), convertCtoN(0,UH=PL_U, UL=PL_L)"
   ]
  },
  {
   "cell_type": "code",
   "execution_count": 762,
   "id": "a873c100-1231-43e6-9161-963fd97c18e7",
   "metadata": {},
   "outputs": [
    {
     "data": {
      "text/plain": [
       "(-0.667, 0.0)"
      ]
     },
     "execution_count": 762,
     "metadata": {},
     "output_type": "execute_result"
    }
   ],
   "source": [
    "convertNtoC(60, UH=PL_U,UL=PL_L), convertNtoC(79,MS_U, MS_L)"
   ]
  },
  {
   "cell_type": "code",
   "execution_count": 763,
   "id": "31a12875-39f0-4997-a22f-9d0ef9d7df06",
   "metadata": {},
   "outputs": [
    {
     "data": {
      "text/plain": [
       "(79.0, 70.0, 0.3)"
      ]
     },
     "execution_count": 763,
     "metadata": {},
     "output_type": "execute_result"
    }
   ],
   "source": [
    "find_centroid()"
   ]
  },
  {
   "cell_type": "code",
   "execution_count": 759,
   "id": "6b35372b-f2bc-4b42-a182-e7b3cff05031",
   "metadata": {},
   "outputs": [
    {
     "data": {
      "text/plain": [
       "24.257749259289625"
      ]
     },
     "execution_count": 759,
     "metadata": {},
     "output_type": "execute_result"
    }
   ],
   "source": [
    "step_size = 0.5/0.02061197\n",
    "step_size"
   ]
  },
  {
   "cell_type": "code",
   "execution_count": 437,
   "id": "9c2d9c31-4456-4ec3-afcb-1c5cfb6f0084",
   "metadata": {},
   "outputs": [
    {
     "name": "stdout",
     "output_type": "stream",
     "text": [
      "x1   -0.043026\n",
      "x2    0.500000\n",
      "dtype: float64 10.621748501\n",
      "80.31 70.0\n",
      "x1   -0.086052\n",
      "x2    1.000000\n",
      "dtype: float64 10.2034301275511\n",
      "80.11 75.0\n",
      "x1   -0.129077\n",
      "x2    1.500000\n",
      "dtype: float64 9.785111754102196\n",
      "79.92 80.0\n",
      "x1   -0.172103\n",
      "x2    2.000000\n",
      "dtype: float64 9.366793380653295\n",
      "79.73 85.0\n",
      "x1   -0.215129\n",
      "x2    2.500000\n",
      "dtype: float64 8.948475007204392\n",
      "79.53 90.0\n",
      "x1   -0.258155\n",
      "x2    3.000000\n",
      "dtype: float64 8.530156633755489\n",
      "79.34 95.0\n",
      "x1   -0.301181\n",
      "x2    3.500000\n",
      "dtype: float64 8.111838260306588\n",
      "79.14 100.0\n",
      "x1   -0.344207\n",
      "x2    4.000000\n",
      "dtype: float64 7.693519886857684\n",
      "78.95 105.0\n",
      "x1   -0.387232\n",
      "x2    4.500000\n",
      "dtype: float64 7.275201513408783\n",
      "78.76 110.0\n",
      "x1   -0.430258\n",
      "x2    5.000000\n",
      "dtype: float64 6.85688313995988\n",
      "78.56 115.0\n"
     ]
    }
   ],
   "source": [
    "grad_desc(model_grad, lam = step_size, iter_ = 10)"
   ]
  },
  {
   "cell_type": "code",
   "execution_count": 807,
   "id": "bc6e0b64-48bb-4256-8e4b-f9935f1963e3",
   "metadata": {},
   "outputs": [
    {
     "data": {
      "text/html": [
       "<div>\n",
       "<style scoped>\n",
       "    .dataframe tbody tr th:only-of-type {\n",
       "        vertical-align: middle;\n",
       "    }\n",
       "\n",
       "    .dataframe tbody tr th {\n",
       "        vertical-align: top;\n",
       "    }\n",
       "\n",
       "    .dataframe thead th {\n",
       "        text-align: right;\n",
       "    }\n",
       "</style>\n",
       "<table border=\"1\" class=\"dataframe\">\n",
       "  <thead>\n",
       "    <tr style=\"text-align: right;\">\n",
       "      <th></th>\n",
       "      <th></th>\n",
       "      <th></th>\n",
       "      <th></th>\n",
       "      <th>Y</th>\n",
       "      <th>PQ</th>\n",
       "    </tr>\n",
       "    <tr>\n",
       "      <th>PL</th>\n",
       "      <th>MS</th>\n",
       "      <th>PT</th>\n",
       "      <th>TS</th>\n",
       "      <th></th>\n",
       "      <th></th>\n",
       "    </tr>\n",
       "  </thead>\n",
       "  <tbody>\n",
       "    <tr>\n",
       "      <th rowspan=\"4\" valign=\"top\">50</th>\n",
       "      <th rowspan=\"2\" valign=\"top\">74</th>\n",
       "      <th rowspan=\"2\" valign=\"top\">TT</th>\n",
       "      <th>0.2</th>\n",
       "      <td>12.444984</td>\n",
       "      <td>0.0</td>\n",
       "    </tr>\n",
       "    <tr>\n",
       "      <th>0.4</th>\n",
       "      <td>12.533400</td>\n",
       "      <td>0.0</td>\n",
       "    </tr>\n",
       "    <tr>\n",
       "      <th rowspan=\"2\" valign=\"top\">90</th>\n",
       "      <th rowspan=\"2\" valign=\"top\">TT</th>\n",
       "      <th>0.2</th>\n",
       "      <td>13.289903</td>\n",
       "      <td>0.0</td>\n",
       "    </tr>\n",
       "    <tr>\n",
       "      <th>0.4</th>\n",
       "      <td>13.303781</td>\n",
       "      <td>0.0</td>\n",
       "    </tr>\n",
       "    <tr>\n",
       "      <th>55</th>\n",
       "      <th>79</th>\n",
       "      <th>TT</th>\n",
       "      <th>0.3</th>\n",
       "      <td>11.832927</td>\n",
       "      <td>1.0</td>\n",
       "    </tr>\n",
       "    <tr>\n",
       "      <th rowspan=\"2\" valign=\"top\">60</th>\n",
       "      <th>76</th>\n",
       "      <th>TT</th>\n",
       "      <th>0.3</th>\n",
       "      <td>11.606464</td>\n",
       "      <td>0.0</td>\n",
       "    </tr>\n",
       "    <tr>\n",
       "      <th>82</th>\n",
       "      <th>TT</th>\n",
       "      <th>0.3</th>\n",
       "      <td>11.414557</td>\n",
       "      <td>0.0</td>\n",
       "    </tr>\n",
       "    <tr>\n",
       "      <th rowspan=\"3\" valign=\"top\">65</th>\n",
       "      <th>73</th>\n",
       "      <th>TT</th>\n",
       "      <th>0.3</th>\n",
       "      <td>10.780183</td>\n",
       "      <td>1.0</td>\n",
       "    </tr>\n",
       "    <tr>\n",
       "      <th>79</th>\n",
       "      <th>TT</th>\n",
       "      <th>0.3</th>\n",
       "      <td>11.013506</td>\n",
       "      <td>0.0</td>\n",
       "    </tr>\n",
       "    <tr>\n",
       "      <th>85</th>\n",
       "      <th>TT</th>\n",
       "      <th>0.3</th>\n",
       "      <td>11.032854</td>\n",
       "      <td>1.0</td>\n",
       "    </tr>\n",
       "    <tr>\n",
       "      <th rowspan=\"2\" valign=\"top\">70</th>\n",
       "      <th>76</th>\n",
       "      <th>TT</th>\n",
       "      <th>0.3</th>\n",
       "      <td>10.484635</td>\n",
       "      <td>0.0</td>\n",
       "    </tr>\n",
       "    <tr>\n",
       "      <th>82</th>\n",
       "      <th>TT</th>\n",
       "      <th>0.3</th>\n",
       "      <td>10.742846</td>\n",
       "      <td>0.0</td>\n",
       "    </tr>\n",
       "    <tr>\n",
       "      <th rowspan=\"6\" valign=\"top\">75</th>\n",
       "      <th>73</th>\n",
       "      <th>TT</th>\n",
       "      <th>0.3</th>\n",
       "      <td>10.120102</td>\n",
       "      <td>0.0</td>\n",
       "    </tr>\n",
       "    <tr>\n",
       "      <th>75</th>\n",
       "      <th>TT</th>\n",
       "      <th>0.3</th>\n",
       "      <td>10.022093</td>\n",
       "      <td>0.0</td>\n",
       "    </tr>\n",
       "    <tr>\n",
       "      <th>76</th>\n",
       "      <th>TT</th>\n",
       "      <th>0.3</th>\n",
       "      <td>10.029552</td>\n",
       "      <td>0.0</td>\n",
       "    </tr>\n",
       "    <tr>\n",
       "      <th>77</th>\n",
       "      <th>TT</th>\n",
       "      <th>0.3</th>\n",
       "      <td>10.085783</td>\n",
       "      <td>0.0</td>\n",
       "    </tr>\n",
       "    <tr>\n",
       "      <th>79</th>\n",
       "      <th>TT</th>\n",
       "      <th>0.3</th>\n",
       "      <td>10.238236</td>\n",
       "      <td>1.0</td>\n",
       "    </tr>\n",
       "    <tr>\n",
       "      <th>85</th>\n",
       "      <th>TT</th>\n",
       "      <th>0.3</th>\n",
       "      <td>11.490293</td>\n",
       "      <td>0.0</td>\n",
       "    </tr>\n",
       "    <tr>\n",
       "      <th rowspan=\"2\" valign=\"top\">80</th>\n",
       "      <th>76</th>\n",
       "      <th>TT</th>\n",
       "      <th>0.3</th>\n",
       "      <td>10.616193</td>\n",
       "      <td>0.0</td>\n",
       "    </tr>\n",
       "    <tr>\n",
       "      <th>82</th>\n",
       "      <th>TT</th>\n",
       "      <th>0.3</th>\n",
       "      <td>11.769689</td>\n",
       "      <td>0.0</td>\n",
       "    </tr>\n",
       "    <tr>\n",
       "      <th>85</th>\n",
       "      <th>79</th>\n",
       "      <th>TT</th>\n",
       "      <th>0.3</th>\n",
       "      <td>12.390959</td>\n",
       "      <td>0.0</td>\n",
       "    </tr>\n",
       "    <tr>\n",
       "      <th rowspan=\"4\" valign=\"top\">90</th>\n",
       "      <th rowspan=\"2\" valign=\"top\">74</th>\n",
       "      <th rowspan=\"2\" valign=\"top\">TT</th>\n",
       "      <th>0.2</th>\n",
       "      <td>12.678196</td>\n",
       "      <td>0.0</td>\n",
       "    </tr>\n",
       "    <tr>\n",
       "      <th>0.4</th>\n",
       "      <td>12.657490</td>\n",
       "      <td>0.0</td>\n",
       "    </tr>\n",
       "    <tr>\n",
       "      <th rowspan=\"2\" valign=\"top\">90</th>\n",
       "      <th rowspan=\"2\" valign=\"top\">TT</th>\n",
       "      <th>0.2</th>\n",
       "      <td>15.404821</td>\n",
       "      <td>0.0</td>\n",
       "    </tr>\n",
       "    <tr>\n",
       "      <th>0.4</th>\n",
       "      <td>15.303599</td>\n",
       "      <td>0.0</td>\n",
       "    </tr>\n",
       "  </tbody>\n",
       "</table>\n",
       "</div>"
      ],
      "text/plain": [
       "                      Y   PQ\n",
       "PL MS PT TS                 \n",
       "50 74 TT 0.2  12.444984  0.0\n",
       "         0.4  12.533400  0.0\n",
       "   90 TT 0.2  13.289903  0.0\n",
       "         0.4  13.303781  0.0\n",
       "55 79 TT 0.3  11.832927  1.0\n",
       "60 76 TT 0.3  11.606464  0.0\n",
       "   82 TT 0.3  11.414557  0.0\n",
       "65 73 TT 0.3  10.780183  1.0\n",
       "   79 TT 0.3  11.013506  0.0\n",
       "   85 TT 0.3  11.032854  1.0\n",
       "70 76 TT 0.3  10.484635  0.0\n",
       "   82 TT 0.3  10.742846  0.0\n",
       "75 73 TT 0.3  10.120102  0.0\n",
       "   75 TT 0.3  10.022093  0.0\n",
       "   76 TT 0.3  10.029552  0.0\n",
       "   77 TT 0.3  10.085783  0.0\n",
       "   79 TT 0.3  10.238236  1.0\n",
       "   85 TT 0.3  11.490293  0.0\n",
       "80 76 TT 0.3  10.616193  0.0\n",
       "   82 TT 0.3  11.769689  0.0\n",
       "85 79 TT 0.3  12.390959  0.0\n",
       "90 74 TT 0.2  12.678196  0.0\n",
       "         0.4  12.657490  0.0\n",
       "   90 TT 0.2  15.404821  0.0\n",
       "         0.4  15.303599  0.0"
      ]
     },
     "execution_count": 807,
     "metadata": {},
     "output_type": "execute_result"
    }
   ],
   "source": [
    "TT = data[data[\"PT\"]=='TT']\n",
    "TT.groupby([\"PL\",\"MS\",\"PT\",\"TS\"]).mean()"
   ]
  },
  {
   "cell_type": "code",
   "execution_count": 864,
   "id": "a8d45481-62b7-44ce-a4a6-5af6d8527dbd",
   "metadata": {},
   "outputs": [
    {
     "data": {
      "image/png": "[encoded data removed]",
      "text/plain": [
       "<Figure size 640x480 with 1 Axes>"
      ]
     },
     "metadata": {},
     "output_type": "display_data"
    }
   ],
   "source": [
    "sns.set_theme(style=\"darkgrid\")\n",
    "# fig1 = sns.scatterplot(x=\"PL\",  y=\"MS\", data=data,ci=None)\n",
    "fig1 = sns.scatterplot(x=\"PL\",  y=\"MS\", data=TT,ci=None)"
   ]
  },
  {
   "cell_type": "code",
   "execution_count": 865,
   "id": "af8c81c4-0e19-4acc-bcb2-971131b49909",
   "metadata": {},
   "outputs": [
    {
     "data": {
      "text/html": [
       "<div>\n",
       "<style scoped>\n",
       "    .dataframe tbody tr th:only-of-type {\n",
       "        vertical-align: middle;\n",
       "    }\n",
       "\n",
       "    .dataframe tbody tr th {\n",
       "        vertical-align: top;\n",
       "    }\n",
       "\n",
       "    .dataframe thead th {\n",
       "        text-align: right;\n",
       "    }\n",
       "</style>\n",
       "<table border=\"1\" class=\"dataframe\">\n",
       "  <thead>\n",
       "    <tr style=\"text-align: right;\">\n",
       "      <th></th>\n",
       "      <th></th>\n",
       "      <th></th>\n",
       "      <th></th>\n",
       "      <th>Y</th>\n",
       "      <th>PQ</th>\n",
       "    </tr>\n",
       "    <tr>\n",
       "      <th>PL</th>\n",
       "      <th>MS</th>\n",
       "      <th>PT</th>\n",
       "      <th>TS</th>\n",
       "      <th></th>\n",
       "      <th></th>\n",
       "    </tr>\n",
       "  </thead>\n",
       "  <tbody>\n",
       "    <tr>\n",
       "      <th>55</th>\n",
       "      <th>79</th>\n",
       "      <th>TT</th>\n",
       "      <th>0.3</th>\n",
       "      <td>11.832927</td>\n",
       "      <td>1.0</td>\n",
       "    </tr>\n",
       "    <tr>\n",
       "      <th rowspan=\"2\" valign=\"top\">60</th>\n",
       "      <th>76</th>\n",
       "      <th>TT</th>\n",
       "      <th>0.3</th>\n",
       "      <td>11.606464</td>\n",
       "      <td>0.0</td>\n",
       "    </tr>\n",
       "    <tr>\n",
       "      <th>82</th>\n",
       "      <th>TT</th>\n",
       "      <th>0.3</th>\n",
       "      <td>11.414557</td>\n",
       "      <td>0.0</td>\n",
       "    </tr>\n",
       "    <tr>\n",
       "      <th rowspan=\"3\" valign=\"top\">65</th>\n",
       "      <th>73</th>\n",
       "      <th>TT</th>\n",
       "      <th>0.3</th>\n",
       "      <td>10.780183</td>\n",
       "      <td>1.0</td>\n",
       "    </tr>\n",
       "    <tr>\n",
       "      <th>79</th>\n",
       "      <th>TT</th>\n",
       "      <th>0.3</th>\n",
       "      <td>11.013506</td>\n",
       "      <td>0.0</td>\n",
       "    </tr>\n",
       "    <tr>\n",
       "      <th>85</th>\n",
       "      <th>TT</th>\n",
       "      <th>0.3</th>\n",
       "      <td>11.032854</td>\n",
       "      <td>1.0</td>\n",
       "    </tr>\n",
       "    <tr>\n",
       "      <th rowspan=\"2\" valign=\"top\">70</th>\n",
       "      <th>76</th>\n",
       "      <th>TT</th>\n",
       "      <th>0.3</th>\n",
       "      <td>10.484635</td>\n",
       "      <td>0.0</td>\n",
       "    </tr>\n",
       "    <tr>\n",
       "      <th>82</th>\n",
       "      <th>TT</th>\n",
       "      <th>0.3</th>\n",
       "      <td>10.742846</td>\n",
       "      <td>0.0</td>\n",
       "    </tr>\n",
       "    <tr>\n",
       "      <th>75</th>\n",
       "      <th>79</th>\n",
       "      <th>TT</th>\n",
       "      <th>0.3</th>\n",
       "      <td>10.238236</td>\n",
       "      <td>1.0</td>\n",
       "    </tr>\n",
       "  </tbody>\n",
       "</table>\n",
       "</div>"
      ],
      "text/plain": [
       "                      Y   PQ\n",
       "PL MS PT TS                 \n",
       "55 79 TT 0.3  11.832927  1.0\n",
       "60 76 TT 0.3  11.606464  0.0\n",
       "   82 TT 0.3  11.414557  0.0\n",
       "65 73 TT 0.3  10.780183  1.0\n",
       "   79 TT 0.3  11.013506  0.0\n",
       "   85 TT 0.3  11.032854  1.0\n",
       "70 76 TT 0.3  10.484635  0.0\n",
       "   82 TT 0.3  10.742846  0.0\n",
       "75 79 TT 0.3  10.238236  1.0"
      ]
     },
     "execution_count": 865,
     "metadata": {},
     "output_type": "execute_result"
    }
   ],
   "source": [
    "TT.groupby([\"PL\",\"MS\",\"PT\",\"TS\"]).mean()"
   ]
  },
  {
   "cell_type": "code",
   "execution_count": 866,
   "id": "fd6ec876-6b18-4331-ac0a-03e54b8616b4",
   "metadata": {},
   "outputs": [
    {
     "data": {
      "text/html": [
       "<table class=\"simpletable\">\n",
       "<caption>OLS Regression Results</caption>\n",
       "<tr>\n",
       "  <th>Dep. Variable:</th>            <td>Y</td>        <th>  R-squared:         </th> <td>   0.187</td>\n",
       "</tr>\n",
       "<tr>\n",
       "  <th>Model:</th>                   <td>OLS</td>       <th>  Adj. R-squared:    </th> <td>   0.183</td>\n",
       "</tr>\n",
       "<tr>\n",
       "  <th>Method:</th>             <td>Least Squares</td>  <th>  F-statistic:       </th> <td>   41.22</td>\n",
       "</tr>\n",
       "<tr>\n",
       "  <th>Date:</th>             <td>Fri, 20 Jan 2023</td> <th>  Prob (F-statistic):</th> <td>3.16e-38</td>\n",
       "</tr>\n",
       "<tr>\n",
       "  <th>Time:</th>                 <td>20:58:10</td>     <th>  Log-Likelihood:    </th> <td> -1297.6</td>\n",
       "</tr>\n",
       "<tr>\n",
       "  <th>No. Observations:</th>      <td>   900</td>      <th>  AIC:               </th> <td>   2607.</td>\n",
       "</tr>\n",
       "<tr>\n",
       "  <th>Df Residuals:</th>          <td>   894</td>      <th>  BIC:               </th> <td>   2636.</td>\n",
       "</tr>\n",
       "<tr>\n",
       "  <th>Df Model:</th>              <td>     5</td>      <th>                     </th>     <td> </td>   \n",
       "</tr>\n",
       "<tr>\n",
       "  <th>Covariance Type:</th>      <td>nonrobust</td>    <th>                     </th>     <td> </td>   \n",
       "</tr>\n",
       "</table>\n",
       "<table class=\"simpletable\">\n",
       "<tr>\n",
       "       <td></td>         <th>coef</th>     <th>std err</th>      <th>t</th>      <th>P>|t|</th>  <th>[0.025</th>    <th>0.975]</th>  \n",
       "</tr>\n",
       "<tr>\n",
       "  <th>Intercept</th>  <td>   26.0872</td> <td>   29.011</td> <td>    0.899</td> <td> 0.369</td> <td>  -30.849</td> <td>   83.024</td>\n",
       "</tr>\n",
       "<tr>\n",
       "  <th>PL</th>         <td>   -0.6439</td> <td>    0.309</td> <td>   -2.085</td> <td> 0.037</td> <td>   -1.250</td> <td>   -0.038</td>\n",
       "</tr>\n",
       "<tr>\n",
       "  <th>MS</th>         <td>    0.2022</td> <td>    0.551</td> <td>    0.367</td> <td> 0.714</td> <td>   -0.879</td> <td>    1.283</td>\n",
       "</tr>\n",
       "<tr>\n",
       "  <th>PL:MS</th>      <td>    0.0075</td> <td>    0.003</td> <td>    2.192</td> <td> 0.029</td> <td>    0.001</td> <td>    0.014</td>\n",
       "</tr>\n",
       "<tr>\n",
       "  <th>I(PL ** 2)</th> <td>   -0.0002</td> <td>    0.001</td> <td>   -0.213</td> <td> 0.831</td> <td>   -0.002</td> <td>    0.002</td>\n",
       "</tr>\n",
       "<tr>\n",
       "  <th>I(MS ** 2)</th> <td>   -0.0043</td> <td>    0.003</td> <td>   -1.338</td> <td> 0.181</td> <td>   -0.011</td> <td>    0.002</td>\n",
       "</tr>\n",
       "</table>\n",
       "<table class=\"simpletable\">\n",
       "<tr>\n",
       "  <th>Omnibus:</th>       <td> 2.876</td> <th>  Durbin-Watson:     </th> <td>   1.924</td>\n",
       "</tr>\n",
       "<tr>\n",
       "  <th>Prob(Omnibus):</th> <td> 0.237</td> <th>  Jarque-Bera (JB):  </th> <td>   2.938</td>\n",
       "</tr>\n",
       "<tr>\n",
       "  <th>Skew:</th>          <td>-0.134</td> <th>  Prob(JB):          </th> <td>   0.230</td>\n",
       "</tr>\n",
       "<tr>\n",
       "  <th>Kurtosis:</th>      <td> 2.922</td> <th>  Cond. No.          </th> <td>7.78e+06</td>\n",
       "</tr>\n",
       "</table><br/><br/>Notes:<br/>[1] Standard Errors assume that the covariance matrix of the errors is correctly specified.<br/>[2] The condition number is large, 7.78e+06. This might indicate that there are<br/>strong multicollinearity or other numerical problems."
      ],
      "text/plain": [
       "<class 'statsmodels.iolib.summary.Summary'>\n",
       "\"\"\"\n",
       "                            OLS Regression Results                            \n",
       "==============================================================================\n",
       "Dep. Variable:                      Y   R-squared:                       0.187\n",
       "Model:                            OLS   Adj. R-squared:                  0.183\n",
       "Method:                 Least Squares   F-statistic:                     41.22\n",
       "Date:                Fri, 20 Jan 2023   Prob (F-statistic):           3.16e-38\n",
       "Time:                        20:58:10   Log-Likelihood:                -1297.6\n",
       "No. Observations:                 900   AIC:                             2607.\n",
       "Df Residuals:                     894   BIC:                             2636.\n",
       "Df Model:                           5                                         \n",
       "Covariance Type:            nonrobust                                         \n",
       "==============================================================================\n",
       "                 coef    std err          t      P>|t|      [0.025      0.975]\n",
       "------------------------------------------------------------------------------\n",
       "Intercept     26.0872     29.011      0.899      0.369     -30.849      83.024\n",
       "PL            -0.6439      0.309     -2.085      0.037      -1.250      -0.038\n",
       "MS             0.2022      0.551      0.367      0.714      -0.879       1.283\n",
       "PL:MS          0.0075      0.003      2.192      0.029       0.001       0.014\n",
       "I(PL ** 2)    -0.0002      0.001     -0.213      0.831      -0.002       0.002\n",
       "I(MS ** 2)    -0.0043      0.003     -1.338      0.181      -0.011       0.002\n",
       "==============================================================================\n",
       "Omnibus:                        2.876   Durbin-Watson:                   1.924\n",
       "Prob(Omnibus):                  0.237   Jarque-Bera (JB):                2.938\n",
       "Skew:                          -0.134   Prob(JB):                        0.230\n",
       "Kurtosis:                       2.922   Cond. No.                     7.78e+06\n",
       "==============================================================================\n",
       "\n",
       "Notes:\n",
       "[1] Standard Errors assume that the covariance matrix of the errors is correctly specified.\n",
       "[2] The condition number is large, 7.78e+06. This might indicate that there are\n",
       "strong multicollinearity or other numerical problems.\n",
       "\"\"\""
      ]
     },
     "execution_count": 866,
     "metadata": {},
     "output_type": "execute_result"
    }
   ],
   "source": [
    "##CCD\n",
    "# model_ccd = smf.ols('y ~ x1+x2 +x1:x2+ I(x1**2) + I(x2**2)', data = TT).fit()\n",
    "# model_ccd.summary()\n",
    "model_ccd = smf.ols('Y ~ PL*MS+ I(PL**2) + I(MS**2)', data = TT).fit()\n",
    "model_ccd.summary()\n"
   ]
  },
  {
   "cell_type": "code",
   "execution_count": 867,
   "id": "f415aadd-783e-4fda-b300-13785ac57a88",
   "metadata": {},
   "outputs": [
    {
     "data": {
      "image/png": "[encoded data removed]",
      "text/plain": [
       "<Figure size 640x480 with 1 Axes>"
      ]
     },
     "metadata": {},
     "output_type": "display_data"
    }
   ],
   "source": [
    "beta0 = model_ccd.params[0]\n",
    "beta1 = model_ccd.params[1]\n",
    "beta2 = model_ccd.params[2]\n",
    "beta12 = model_ccd.params[3]\n",
    "beta11 = model_ccd.params[4]\n",
    "beta22 = model_ccd.params[5]\n",
    "\n",
    "# x1, x2 = np.meshgrid(np.linspace(convertNtoC(U = MS_L, UH = MS_U, UL = MS_L), \n",
    "#                                  convertNtoC(U = MS_U, UH = MS_U, UL = MS_L), 100), \n",
    "#                      np.linspace(convertNtoC(U = PL_L, UH = PL_U, UL = PL_L), \n",
    "#                                  convertNtoC(U = PL_U, UH = PL_U, UL = PL_L), 100))\n",
    "\n",
    "x1, x2 = np.meshgrid(np.linspace(55,90, 100), \n",
    "                     np.linspace(70,90, 100))\n",
    "eta = beta0 + beta1*x1 + beta2*x2 + beta12*x1*x2 + beta11*x1**2 + beta22*x2**2 \n",
    "# pi = np.exp(eta)/(1+np.exp(eta))\n",
    "h = plt.contour(x2, x1, eta)\n",
    "plt.clabel(h, inline=True, fontsize=10)\n",
    "plt.xlabel('Match Score')\n",
    "plt.ylabel('Preview Length')\n",
    "plt.title('Predicted Browsing Time (Prev. Type TT,TS 0.3)')\n",
    "plt.show()"
   ]
  },
  {
   "cell_type": "code",
   "execution_count": 857,
   "id": "99eca6ef-fc80-4b0e-8270-39b595d410ff",
   "metadata": {},
   "outputs": [],
   "source": [
    "# h = plt.contour(convertCtoN(x2, UH=PL_U, UL=PL_L),convertCtoN(x1, UH=MS_U, UL=MS_L),eta)\n",
    "# plt.clabel(h, inline=True, fontsize=10)\n",
    "# plt.xlabel('MS')\n",
    "# plt.ylabel('PL')\n",
    "# plt.title('Predicted Booking Rate')\n",
    "# plt.show()"
   ]
  },
  {
   "cell_type": "code",
   "execution_count": 868,
   "id": "f23bdbd4-d88f-481a-a62a-4a0063b2b9f6",
   "metadata": {},
   "outputs": [
    {
     "name": "stdout",
     "output_type": "stream",
     "text": [
      "Scroll time is minimized when x1:MS= [[76.31143658]] and x2:PL= [[90.80877083]]\n"
     ]
    }
   ],
   "source": [
    "b = np.matrix([beta1, beta2]).transpose()\n",
    "B = np.matrix([[beta11, 0.5*beta12], [0.5*beta12, beta22]])\n",
    "x_s = -0.5* np.matmul(np.linalg.inv(B), b)\n",
    "print(\"Scroll time is minimized when x1:MS=\", x_s[0], \"and x2:PL=\", x_s[1])"
   ]
  },
  {
   "cell_type": "code",
   "execution_count": 859,
   "id": "dcc4af74-0de9-40e2-a8a2-5eafec5961cc",
   "metadata": {},
   "outputs": [],
   "source": [
    "# xsN_1 = convertCtoN(x = x_s[0], UH = MS_U, UL = MS_L)\n",
    "# xsN_2 = convertCtoN(x = x_s[1], UH = PL_U, UL = PL_L)\n",
    "# print(\"MS=\", xsN_1, \", PL=\", xsN_2)"
   ]
  },
  {
   "cell_type": "code",
   "execution_count": 860,
   "id": "53210200-6854-432b-89b1-eca587f567d2",
   "metadata": {},
   "outputs": [],
   "source": [
    "# convertCtoN(-0.86496696,MS_U,MS_L),convertCtoN(-0.0236639,PL_U,PL_L)"
   ]
  },
  {
   "cell_type": "code",
   "execution_count": 861,
   "id": "e8dad72a-e265-408a-afff-322309eaf8ed",
   "metadata": {},
   "outputs": [
    {
     "name": "stdout",
     "output_type": "stream",
     "text": [
      "[[10.69964857]]\n"
     ]
    }
   ],
   "source": [
    "eta_s = beta0 + 0.5*np.matmul(x_s.transpose(), b) \n",
    "# print(np.exp(eta_s)/(1+np.exp(eta_s)))\n",
    "print(eta_s)"
   ]
  },
  {
   "cell_type": "code",
   "execution_count": null,
   "id": "94c3cf98-1eea-4ecf-817a-ace2fd2df8de",
   "metadata": {},
   "outputs": [],
   "source": []
  }
 ],
 "metadata": {
  "kernelspec": {
   "display_name": "Python 3 (ipykernel)",
   "language": "python",
   "name": "python3"
  },
  "language_info": {
   "codemirror_mode": {
    "name": "ipython",
    "version": 3
   },
   "file_extension": ".py",
   "mimetype": "text/x-python",
   "name": "python",
   "nbconvert_exporter": "python",
   "pygments_lexer": "ipython3",
   "version": "3.10.6"
  }
 },
 "nbformat": 4,
 "nbformat_minor": 5
}
